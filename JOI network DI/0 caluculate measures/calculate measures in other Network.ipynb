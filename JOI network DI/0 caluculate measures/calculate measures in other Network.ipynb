{
 "cells": [
  {
   "cell_type": "code",
   "execution_count": 1,
   "id": "6676eb6d",
   "metadata": {},
   "outputs": [],
   "source": [
    "import pandas as pd\n",
    "import numpy as np\n",
    "import igraph as ig"
   ]
  },
  {
   "cell_type": "code",
   "execution_count": 7,
   "id": "22341c85",
   "metadata": {},
   "outputs": [],
   "source": [
    "file_path1 = r'E:\\netData\\ComplexNet\\blogs.txt'\n",
    "file_path2 = r'E:\\netData\\\\ComplexNet\\email.txt'\n",
    "file_path3 = r'E:\\netData\\\\ComplexNet\\wikipedia.txt'"
   ]
  },
  {
   "cell_type": "code",
   "execution_count": 3,
   "id": "12c141aa",
   "metadata": {},
   "outputs": [],
   "source": [
    "def Hindex(indexList):\n",
    "    indexSet = sorted(list(set(indexList)), reverse = True)\n",
    "    h = 1\n",
    "    for index in indexSet:\n",
    "        if h <= index:\n",
    "            h += 1\n",
    "        else:\n",
    "            break\n",
    "    return h-1"
   ]
  },
  {
   "cell_type": "code",
   "execution_count": 4,
   "id": "4575d189",
   "metadata": {},
   "outputs": [],
   "source": [
    "def calculate_CD(x):\n",
    "    if g.vs[x].indegree()== 0:\n",
    "        return 0,0\n",
    "    elif g.vs[x].outdegree()== 0:\n",
    "        return 1,1\n",
    "    else:\n",
    "        array = np.array([])\n",
    "        for successor in g.vs[x].successors():\n",
    "            array = np.append(array,successor.predecessors())\n",
    "        array = np.unique(array)\n",
    "        \n",
    "        nj = np.intersect1d(array,g.vs[x].predecessors())\n",
    "        ni = np.setdiff1d(g.vs[x].predecessors(),nj)\n",
    "        nk = np.setdiff1d(array,g.vs[x].predecessors())\n",
    "\n",
    "        CD = (len(ni)-len(nj))/(len(ni) + len(nj)+ len(nk))\n",
    "        \n",
    "        D = (len(ni))/(len(ni) + len(nj)+ len(nk))\n",
    "        return [D, CD]"
   ]
  },
  {
   "cell_type": "code",
   "execution_count": 5,
   "id": "cb8c99ac",
   "metadata": {},
   "outputs": [],
   "source": [
    "def calculate_2D(x):\n",
    "    if g.vs[x].outdegree() == 0:\n",
    "        return 1, 1\n",
    "\n",
    "    successors_1 = g.vs[x].successors()\n",
    "    successors_2 = []\n",
    "\n",
    "    # Collect successors of successors (second generation)\n",
    "    for successor_1 in successors_1:\n",
    "        successors_2.extend(successor_1.successors())\n",
    "\n",
    "    if len(successors_2) == 0:\n",
    "        return 1, 1\n",
    "\n",
    "    array = np.array([])\n",
    "\n",
    "    # Collect predecessors of successors (second generation)\n",
    "    for successor_2 in successors_2:\n",
    "        array = np.append(array, successor_2.predecessors())\n",
    "\n",
    "    array = np.unique(array)\n",
    "\n",
    "    nj = np.intersect1d(array, g.vs[x].predecessors())\n",
    "    ni = np.setdiff1d(g.vs[x].predecessors(), nj)\n",
    "    nk = np.setdiff1d(array, g.vs[x].predecessors())\n",
    "\n",
    "    D2 = len(ni)/(len(ni) + len(nj)+ len(nk))\n",
    "    return D2"
   ]
  },
  {
   "cell_type": "markdown",
   "id": "ef472c13",
   "metadata": {},
   "source": [
    "# blogs"
   ]
  },
  {
   "cell_type": "code",
   "execution_count": 8,
   "id": "d716b028",
   "metadata": {},
   "outputs": [],
   "source": [
    "with open(file_path1) as f:\n",
    "    d = f.readlines()"
   ]
  },
  {
   "cell_type": "code",
   "execution_count": 9,
   "id": "ba195186",
   "metadata": {},
   "outputs": [],
   "source": [
    "edgesdata = []\n",
    "for i in d:\n",
    "    edgesdata.append(i.strip().split()[::-1])\n",
    "edgesdata = np.array(edgesdata).astype(int)"
   ]
  },
  {
   "cell_type": "code",
   "execution_count": 10,
   "id": "9a826088",
   "metadata": {},
   "outputs": [],
   "source": [
    "g = ig.Graph(edges=edgesdata, directed=True)"
   ]
  },
  {
   "cell_type": "code",
   "execution_count": 11,
   "id": "f6c3a30b",
   "metadata": {},
   "outputs": [],
   "source": [
    "M = g.vcount()"
   ]
  },
  {
   "cell_type": "code",
   "execution_count": 12,
   "id": "567af1fe",
   "metadata": {},
   "outputs": [],
   "source": [
    "Dlst = []\n",
    "D2lst = []\n",
    "CDlst = []\n",
    "hlst = []"
   ]
  },
  {
   "cell_type": "code",
   "execution_count": 14,
   "id": "76d21b60",
   "metadata": {},
   "outputs": [],
   "source": [
    "for i in range(M):\n",
    "    DCD = calculate_CD(i)\n",
    "    Dlst.append(DCD[0])\n",
    "    CDlst.append(DCD[1])\n",
    "    \n",
    "    D2lst.append(calculate_2D(i))\n",
    "    \n",
    "    hlst.append(Hindex([neighbors.degree() for neighbors in g.vs[i].neighbors()]))"
   ]
  },
  {
   "cell_type": "code",
   "execution_count": 24,
   "id": "ff428ebb",
   "metadata": {},
   "outputs": [],
   "source": [
    "out_data = [Dlst,D2lst ,CDlst ,g.degree(),g.coreness(),hlst,g.pagerank()]\n",
    "name_data = ['D','2stepD','CD','degree','coreness','h-index','pagerank']\n",
    "Ddata = pd.DataFrame(dict(zip(name_data , out_data)))"
   ]
  },
  {
   "cell_type": "code",
   "execution_count": 25,
   "id": "9645c7ed",
   "metadata": {},
   "outputs": [
    {
     "data": {
      "text/html": [
       "<div>\n",
       "<style scoped>\n",
       "    .dataframe tbody tr th:only-of-type {\n",
       "        vertical-align: middle;\n",
       "    }\n",
       "\n",
       "    .dataframe tbody tr th {\n",
       "        vertical-align: top;\n",
       "    }\n",
       "\n",
       "    .dataframe thead th {\n",
       "        text-align: right;\n",
       "    }\n",
       "</style>\n",
       "<table border=\"1\" class=\"dataframe\">\n",
       "  <thead>\n",
       "    <tr style=\"text-align: right;\">\n",
       "      <th></th>\n",
       "      <th>D</th>\n",
       "      <th>2stepD</th>\n",
       "      <th>CD</th>\n",
       "      <th>degree</th>\n",
       "      <th>coreness</th>\n",
       "      <th>h-index</th>\n",
       "      <th>pagerank</th>\n",
       "    </tr>\n",
       "  </thead>\n",
       "  <tbody>\n",
       "    <tr>\n",
       "      <th>count</th>\n",
       "      <td>1225.000000</td>\n",
       "      <td>1225.000000</td>\n",
       "      <td>1225.000000</td>\n",
       "      <td>1225.000000</td>\n",
       "      <td>1225.000000</td>\n",
       "      <td>1225.000000</td>\n",
       "      <td>1225.000000</td>\n",
       "    </tr>\n",
       "    <tr>\n",
       "      <th>mean</th>\n",
       "      <td>0.217777</td>\n",
       "      <td>0.195398</td>\n",
       "      <td>0.167942</td>\n",
       "      <td>31.061224</td>\n",
       "      <td>16.638367</td>\n",
       "      <td>17.316735</td>\n",
       "      <td>0.000816</td>\n",
       "    </tr>\n",
       "    <tr>\n",
       "      <th>std</th>\n",
       "      <td>0.389458</td>\n",
       "      <td>0.391435</td>\n",
       "      <td>0.417781</td>\n",
       "      <td>45.334617</td>\n",
       "      <td>13.977129</td>\n",
       "      <td>16.599303</td>\n",
       "      <td>0.001571</td>\n",
       "    </tr>\n",
       "    <tr>\n",
       "      <th>min</th>\n",
       "      <td>0.000000</td>\n",
       "      <td>0.000000</td>\n",
       "      <td>-0.833333</td>\n",
       "      <td>0.000000</td>\n",
       "      <td>0.000000</td>\n",
       "      <td>0.000000</td>\n",
       "      <td>0.000174</td>\n",
       "    </tr>\n",
       "    <tr>\n",
       "      <th>25%</th>\n",
       "      <td>0.000000</td>\n",
       "      <td>0.000000</td>\n",
       "      <td>-0.049724</td>\n",
       "      <td>3.000000</td>\n",
       "      <td>3.000000</td>\n",
       "      <td>3.000000</td>\n",
       "      <td>0.000188</td>\n",
       "    </tr>\n",
       "    <tr>\n",
       "      <th>50%</th>\n",
       "      <td>0.008130</td>\n",
       "      <td>0.002392</td>\n",
       "      <td>-0.006173</td>\n",
       "      <td>14.000000</td>\n",
       "      <td>13.000000</td>\n",
       "      <td>12.000000</td>\n",
       "      <td>0.000356</td>\n",
       "    </tr>\n",
       "    <tr>\n",
       "      <th>75%</th>\n",
       "      <td>0.116505</td>\n",
       "      <td>0.017751</td>\n",
       "      <td>0.040000</td>\n",
       "      <td>40.000000</td>\n",
       "      <td>29.000000</td>\n",
       "      <td>28.000000</td>\n",
       "      <td>0.000869</td>\n",
       "    </tr>\n",
       "    <tr>\n",
       "      <th>max</th>\n",
       "      <td>1.000000</td>\n",
       "      <td>1.000000</td>\n",
       "      <td>1.000000</td>\n",
       "      <td>467.000000</td>\n",
       "      <td>43.000000</td>\n",
       "      <td>69.000000</td>\n",
       "      <td>0.035391</td>\n",
       "    </tr>\n",
       "  </tbody>\n",
       "</table>\n",
       "</div>"
      ],
      "text/plain": [
       "                 D       2stepD           CD       degree     coreness  \\\n",
       "count  1225.000000  1225.000000  1225.000000  1225.000000  1225.000000   \n",
       "mean      0.217777     0.195398     0.167942    31.061224    16.638367   \n",
       "std       0.389458     0.391435     0.417781    45.334617    13.977129   \n",
       "min       0.000000     0.000000    -0.833333     0.000000     0.000000   \n",
       "25%       0.000000     0.000000    -0.049724     3.000000     3.000000   \n",
       "50%       0.008130     0.002392    -0.006173    14.000000    13.000000   \n",
       "75%       0.116505     0.017751     0.040000    40.000000    29.000000   \n",
       "max       1.000000     1.000000     1.000000   467.000000    43.000000   \n",
       "\n",
       "           h-index     pagerank  \n",
       "count  1225.000000  1225.000000  \n",
       "mean     17.316735     0.000816  \n",
       "std      16.599303     0.001571  \n",
       "min       0.000000     0.000174  \n",
       "25%       3.000000     0.000188  \n",
       "50%      12.000000     0.000356  \n",
       "75%      28.000000     0.000869  \n",
       "max      69.000000     0.035391  "
      ]
     },
     "execution_count": 25,
     "metadata": {},
     "output_type": "execute_result"
    }
   ],
   "source": [
    "Ddata.describe()"
   ]
  },
  {
   "cell_type": "code",
   "execution_count": 26,
   "id": "1e718a84",
   "metadata": {},
   "outputs": [],
   "source": [
    "Ddata.to_csv(r'E:\\netData\\complexNetdataset\\blogs-data.csv',index = False)"
   ]
  },
  {
   "cell_type": "markdown",
   "id": "86b4874b",
   "metadata": {},
   "source": [
    "# Email"
   ]
  },
  {
   "cell_type": "code",
   "execution_count": 27,
   "id": "13918088",
   "metadata": {},
   "outputs": [],
   "source": [
    "with open(file_path2) as f:\n",
    "    d = f.readlines()"
   ]
  },
  {
   "cell_type": "code",
   "execution_count": 28,
   "id": "7e1b90b6",
   "metadata": {},
   "outputs": [],
   "source": [
    "edgesdata = []\n",
    "for i in d:\n",
    "    edgesdata.append(i.strip().split()[:2][::-1])\n",
    "edgesdata = np.array(edgesdata).astype(int)"
   ]
  },
  {
   "cell_type": "code",
   "execution_count": 29,
   "id": "74da4611",
   "metadata": {},
   "outputs": [],
   "source": [
    "g = ig.Graph(edges=edgesdata, directed=True)"
   ]
  },
  {
   "cell_type": "code",
   "execution_count": 30,
   "id": "40c30902",
   "metadata": {},
   "outputs": [],
   "source": [
    "M = g.vcount()"
   ]
  },
  {
   "cell_type": "code",
   "execution_count": 34,
   "id": "4aa52998",
   "metadata": {},
   "outputs": [],
   "source": [
    "Dlst = []\n",
    "D2lst = []\n",
    "CDlst = []\n",
    "hlst = []"
   ]
  },
  {
   "cell_type": "code",
   "execution_count": 35,
   "id": "c2f4cfce",
   "metadata": {},
   "outputs": [],
   "source": [
    "for i in range(M):\n",
    "    DCD = calculate_CD(i)\n",
    "    Dlst.append(DCD[0])\n",
    "    CDlst.append(DCD[1])\n",
    "    \n",
    "    D2lst.append(calculate_2D(i))\n",
    "    \n",
    "    hlst.append(Hindex([neighbors.degree() for neighbors in g.vs[i].neighbors()]))"
   ]
  },
  {
   "cell_type": "code",
   "execution_count": 36,
   "id": "99e588ee",
   "metadata": {},
   "outputs": [],
   "source": [
    "out_data = [Dlst,D2lst ,CDlst ,g.degree(),g.coreness(),hlst,g.pagerank()]\n",
    "name_data = ['D','2stepD','CD','degree','coreness','h-index','pagerank']\n",
    "Ddata = pd.DataFrame(dict(zip(name_data , out_data)))"
   ]
  },
  {
   "cell_type": "code",
   "execution_count": 37,
   "id": "7542f5ec",
   "metadata": {},
   "outputs": [
    {
     "data": {
      "text/html": [
       "<div>\n",
       "<style scoped>\n",
       "    .dataframe tbody tr th:only-of-type {\n",
       "        vertical-align: middle;\n",
       "    }\n",
       "\n",
       "    .dataframe tbody tr th {\n",
       "        vertical-align: top;\n",
       "    }\n",
       "\n",
       "    .dataframe thead th {\n",
       "        text-align: right;\n",
       "    }\n",
       "</style>\n",
       "<table border=\"1\" class=\"dataframe\">\n",
       "  <thead>\n",
       "    <tr style=\"text-align: right;\">\n",
       "      <th></th>\n",
       "      <th>D</th>\n",
       "      <th>2stepD</th>\n",
       "      <th>CD</th>\n",
       "      <th>degree</th>\n",
       "      <th>coreness</th>\n",
       "      <th>h-index</th>\n",
       "      <th>pagerank</th>\n",
       "    </tr>\n",
       "  </thead>\n",
       "  <tbody>\n",
       "    <tr>\n",
       "      <th>count</th>\n",
       "      <td>2030.000000</td>\n",
       "      <td>2030.000000</td>\n",
       "      <td>2030.000000</td>\n",
       "      <td>2030.000000</td>\n",
       "      <td>2030.000000</td>\n",
       "      <td>2030.000000</td>\n",
       "      <td>2030.000000</td>\n",
       "    </tr>\n",
       "    <tr>\n",
       "      <th>mean</th>\n",
       "      <td>0.261421</td>\n",
       "      <td>0.258426</td>\n",
       "      <td>0.237412</td>\n",
       "      <td>38.683744</td>\n",
       "      <td>21.291133</td>\n",
       "      <td>3.113793</td>\n",
       "      <td>0.000493</td>\n",
       "    </tr>\n",
       "    <tr>\n",
       "      <th>std</th>\n",
       "      <td>0.435295</td>\n",
       "      <td>0.435264</td>\n",
       "      <td>0.467682</td>\n",
       "      <td>239.252995</td>\n",
       "      <td>78.649684</td>\n",
       "      <td>7.010965</td>\n",
       "      <td>0.002615</td>\n",
       "    </tr>\n",
       "    <tr>\n",
       "      <th>min</th>\n",
       "      <td>0.000000</td>\n",
       "      <td>0.000000</td>\n",
       "      <td>-1.000000</td>\n",
       "      <td>0.000000</td>\n",
       "      <td>0.000000</td>\n",
       "      <td>0.000000</td>\n",
       "      <td>0.000130</td>\n",
       "    </tr>\n",
       "    <tr>\n",
       "      <th>25%</th>\n",
       "      <td>0.000000</td>\n",
       "      <td>0.000000</td>\n",
       "      <td>0.000000</td>\n",
       "      <td>1.000000</td>\n",
       "      <td>1.000000</td>\n",
       "      <td>1.000000</td>\n",
       "      <td>0.000130</td>\n",
       "    </tr>\n",
       "    <tr>\n",
       "      <th>50%</th>\n",
       "      <td>0.000000</td>\n",
       "      <td>0.000000</td>\n",
       "      <td>0.000000</td>\n",
       "      <td>2.000000</td>\n",
       "      <td>2.000000</td>\n",
       "      <td>1.000000</td>\n",
       "      <td>0.000130</td>\n",
       "    </tr>\n",
       "    <tr>\n",
       "      <th>75%</th>\n",
       "      <td>1.000000</td>\n",
       "      <td>1.000000</td>\n",
       "      <td>1.000000</td>\n",
       "      <td>7.000000</td>\n",
       "      <td>6.000000</td>\n",
       "      <td>2.000000</td>\n",
       "      <td>0.000178</td>\n",
       "    </tr>\n",
       "    <tr>\n",
       "      <th>max</th>\n",
       "      <td>1.000000</td>\n",
       "      <td>1.000000</td>\n",
       "      <td>1.000000</td>\n",
       "      <td>5813.000000</td>\n",
       "      <td>1462.000000</td>\n",
       "      <td>74.000000</td>\n",
       "      <td>0.067987</td>\n",
       "    </tr>\n",
       "  </tbody>\n",
       "</table>\n",
       "</div>"
      ],
      "text/plain": [
       "                 D       2stepD           CD       degree     coreness  \\\n",
       "count  2030.000000  2030.000000  2030.000000  2030.000000  2030.000000   \n",
       "mean      0.261421     0.258426     0.237412    38.683744    21.291133   \n",
       "std       0.435295     0.435264     0.467682   239.252995    78.649684   \n",
       "min       0.000000     0.000000    -1.000000     0.000000     0.000000   \n",
       "25%       0.000000     0.000000     0.000000     1.000000     1.000000   \n",
       "50%       0.000000     0.000000     0.000000     2.000000     2.000000   \n",
       "75%       1.000000     1.000000     1.000000     7.000000     6.000000   \n",
       "max       1.000000     1.000000     1.000000  5813.000000  1462.000000   \n",
       "\n",
       "           h-index     pagerank  \n",
       "count  2030.000000  2030.000000  \n",
       "mean      3.113793     0.000493  \n",
       "std       7.010965     0.002615  \n",
       "min       0.000000     0.000130  \n",
       "25%       1.000000     0.000130  \n",
       "50%       1.000000     0.000130  \n",
       "75%       2.000000     0.000178  \n",
       "max      74.000000     0.067987  "
      ]
     },
     "execution_count": 37,
     "metadata": {},
     "output_type": "execute_result"
    }
   ],
   "source": [
    "Ddata.describe()"
   ]
  },
  {
   "cell_type": "code",
   "execution_count": 38,
   "id": "77336f9c",
   "metadata": {},
   "outputs": [],
   "source": [
    "Ddata.to_csv(r'E:\\netData\\complexNetdataset\\email-data.csv',index = False)"
   ]
  },
  {
   "cell_type": "markdown",
   "id": "ef1c7c6b",
   "metadata": {},
   "source": [
    "# Wikipedia"
   ]
  },
  {
   "cell_type": "code",
   "execution_count": 45,
   "id": "e4354562",
   "metadata": {},
   "outputs": [],
   "source": [
    "with open(file_path3) as f:\n",
    "    d = f.readlines()"
   ]
  },
  {
   "cell_type": "code",
   "execution_count": 46,
   "id": "d398027a",
   "metadata": {},
   "outputs": [],
   "source": [
    "edgesdata = []\n",
    "for i in d:\n",
    "    edgesdata.append(i.strip().split()[:2][::-1])\n",
    "edgesdata = np.array(edgesdata).astype(int)"
   ]
  },
  {
   "cell_type": "code",
   "execution_count": 47,
   "id": "7bba58dc",
   "metadata": {},
   "outputs": [],
   "source": [
    "g = ig.Graph(edges=edgesdata, directed=True)"
   ]
  },
  {
   "cell_type": "code",
   "execution_count": 48,
   "id": "d6a2afff",
   "metadata": {},
   "outputs": [],
   "source": [
    "M = g.vcount()"
   ]
  },
  {
   "cell_type": "code",
   "execution_count": 52,
   "id": "cef79bf8",
   "metadata": {},
   "outputs": [],
   "source": [
    "Dlst = []\n",
    "D2lst = []\n",
    "CDlst = []\n",
    "hlst = []"
   ]
  },
  {
   "cell_type": "code",
   "execution_count": 53,
   "id": "039307c6",
   "metadata": {},
   "outputs": [],
   "source": [
    "for i in range(M):\n",
    "    DCD = calculate_CD(i)\n",
    "    Dlst.append(DCD[0])\n",
    "    CDlst.append(DCD[1])\n",
    "    \n",
    "    D2lst.append(calculate_2D(i))\n",
    "    \n",
    "    hlst.append(Hindex([neighbors.degree() for neighbors in g.vs[i].neighbors()]))"
   ]
  },
  {
   "cell_type": "code",
   "execution_count": 54,
   "id": "5b642fea",
   "metadata": {},
   "outputs": [],
   "source": [
    "out_data = [Dlst,D2lst ,CDlst ,g.degree(),g.coreness(),hlst,g.pagerank()]\n",
    "name_data = ['D','2stepD','CD','degree','coreness','h-index','pagerank']\n",
    "Ddata = pd.DataFrame(dict(zip(name_data , out_data)))"
   ]
  },
  {
   "cell_type": "code",
   "execution_count": 55,
   "id": "f9e12ac6",
   "metadata": {},
   "outputs": [
    {
     "data": {
      "text/html": [
       "<div>\n",
       "<style scoped>\n",
       "    .dataframe tbody tr th:only-of-type {\n",
       "        vertical-align: middle;\n",
       "    }\n",
       "\n",
       "    .dataframe tbody tr th {\n",
       "        vertical-align: top;\n",
       "    }\n",
       "\n",
       "    .dataframe thead th {\n",
       "        text-align: right;\n",
       "    }\n",
       "</style>\n",
       "<table border=\"1\" class=\"dataframe\">\n",
       "  <thead>\n",
       "    <tr style=\"text-align: right;\">\n",
       "      <th></th>\n",
       "      <th>D</th>\n",
       "      <th>2stepD</th>\n",
       "      <th>CD</th>\n",
       "      <th>degree</th>\n",
       "      <th>coreness</th>\n",
       "      <th>h-index</th>\n",
       "      <th>pagerank</th>\n",
       "    </tr>\n",
       "  </thead>\n",
       "  <tbody>\n",
       "    <tr>\n",
       "      <th>count</th>\n",
       "      <td>1182.000000</td>\n",
       "      <td>1182.000000</td>\n",
       "      <td>1182.000000</td>\n",
       "      <td>1182.000000</td>\n",
       "      <td>1182.000000</td>\n",
       "      <td>1182.000000</td>\n",
       "      <td>1182.000000</td>\n",
       "    </tr>\n",
       "    <tr>\n",
       "      <th>mean</th>\n",
       "      <td>0.546666</td>\n",
       "      <td>0.544984</td>\n",
       "      <td>0.401093</td>\n",
       "      <td>23.272420</td>\n",
       "      <td>14.671743</td>\n",
       "      <td>2.743655</td>\n",
       "      <td>0.000846</td>\n",
       "    </tr>\n",
       "    <tr>\n",
       "      <th>std</th>\n",
       "      <td>0.496944</td>\n",
       "      <td>0.498056</td>\n",
       "      <td>0.723086</td>\n",
       "      <td>165.699483</td>\n",
       "      <td>78.370873</td>\n",
       "      <td>4.300260</td>\n",
       "      <td>0.004018</td>\n",
       "    </tr>\n",
       "    <tr>\n",
       "      <th>min</th>\n",
       "      <td>0.000000</td>\n",
       "      <td>0.000000</td>\n",
       "      <td>-1.000000</td>\n",
       "      <td>0.000000</td>\n",
       "      <td>0.000000</td>\n",
       "      <td>0.000000</td>\n",
       "      <td>0.000192</td>\n",
       "    </tr>\n",
       "    <tr>\n",
       "      <th>25%</th>\n",
       "      <td>0.000000</td>\n",
       "      <td>0.000000</td>\n",
       "      <td>-0.011300</td>\n",
       "      <td>1.000000</td>\n",
       "      <td>1.000000</td>\n",
       "      <td>1.000000</td>\n",
       "      <td>0.000192</td>\n",
       "    </tr>\n",
       "    <tr>\n",
       "      <th>50%</th>\n",
       "      <td>1.000000</td>\n",
       "      <td>1.000000</td>\n",
       "      <td>1.000000</td>\n",
       "      <td>3.000000</td>\n",
       "      <td>3.000000</td>\n",
       "      <td>2.000000</td>\n",
       "      <td>0.000192</td>\n",
       "    </tr>\n",
       "    <tr>\n",
       "      <th>75%</th>\n",
       "      <td>1.000000</td>\n",
       "      <td>1.000000</td>\n",
       "      <td>1.000000</td>\n",
       "      <td>4.000000</td>\n",
       "      <td>4.000000</td>\n",
       "      <td>2.000000</td>\n",
       "      <td>0.000387</td>\n",
       "    </tr>\n",
       "    <tr>\n",
       "      <th>max</th>\n",
       "      <td>1.000000</td>\n",
       "      <td>1.000000</td>\n",
       "      <td>1.000000</td>\n",
       "      <td>3297.000000</td>\n",
       "      <td>1372.000000</td>\n",
       "      <td>45.000000</td>\n",
       "      <td>0.095667</td>\n",
       "    </tr>\n",
       "  </tbody>\n",
       "</table>\n",
       "</div>"
      ],
      "text/plain": [
       "                 D       2stepD           CD       degree     coreness  \\\n",
       "count  1182.000000  1182.000000  1182.000000  1182.000000  1182.000000   \n",
       "mean      0.546666     0.544984     0.401093    23.272420    14.671743   \n",
       "std       0.496944     0.498056     0.723086   165.699483    78.370873   \n",
       "min       0.000000     0.000000    -1.000000     0.000000     0.000000   \n",
       "25%       0.000000     0.000000    -0.011300     1.000000     1.000000   \n",
       "50%       1.000000     1.000000     1.000000     3.000000     3.000000   \n",
       "75%       1.000000     1.000000     1.000000     4.000000     4.000000   \n",
       "max       1.000000     1.000000     1.000000  3297.000000  1372.000000   \n",
       "\n",
       "           h-index     pagerank  \n",
       "count  1182.000000  1182.000000  \n",
       "mean      2.743655     0.000846  \n",
       "std       4.300260     0.004018  \n",
       "min       0.000000     0.000192  \n",
       "25%       1.000000     0.000192  \n",
       "50%       2.000000     0.000192  \n",
       "75%       2.000000     0.000387  \n",
       "max      45.000000     0.095667  "
      ]
     },
     "execution_count": 55,
     "metadata": {},
     "output_type": "execute_result"
    }
   ],
   "source": [
    "Ddata.describe()"
   ]
  },
  {
   "cell_type": "code",
   "execution_count": 56,
   "id": "e69b5204",
   "metadata": {},
   "outputs": [],
   "source": [
    "Ddata.to_csv(r'E:\\netData\\complexNetdataset\\Wiki-data.csv',index = False)"
   ]
  }
 ],
 "metadata": {
  "kernelspec": {
   "display_name": "Python 3 (ipykernel)",
   "language": "python",
   "name": "python3"
  },
  "language_info": {
   "codemirror_mode": {
    "name": "ipython",
    "version": 3
   },
   "file_extension": ".py",
   "mimetype": "text/x-python",
   "name": "python",
   "nbconvert_exporter": "python",
   "pygments_lexer": "ipython3",
   "version": "3.9.12"
  }
 },
 "nbformat": 4,
 "nbformat_minor": 5
}
