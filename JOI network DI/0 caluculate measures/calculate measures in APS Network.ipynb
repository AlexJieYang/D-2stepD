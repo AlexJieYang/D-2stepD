{
 "cells": [
  {
   "cell_type": "code",
   "execution_count": 48,
   "metadata": {},
   "outputs": [],
   "source": [
    "import pandas as pd\n",
    "import numpy as np\n",
    "import os\n",
    "import math\n",
    "import re\n",
    "import random\n",
    "import matplotlib.pyplot as plt\n",
    "from matplotlib.cm import ScalarMappable\n",
    "from matplotlib.colors import LinearSegmentedColormap, Normalize\n",
    "import igraph as ig\n",
    "from collections import Counter\n",
    "import scipy.stats\n",
    "import seaborn as sns\n",
    "from matplotlib.font_manager import FontProperties  # 导入FontProperties\n",
    "import matplotlib.pyplot as plt\n",
    "from matplotlib.cm import ScalarMappable\n",
    "from matplotlib.colors import LinearSegmentedColormap, Normalize\n",
    "import warnings\n",
    "warnings.filterwarnings(\"ignore\")"
   ]
  },
  {
   "cell_type": "markdown",
   "metadata": {},
   "source": [
    "# data import"
   ]
  },
  {
   "cell_type": "code",
   "execution_count": 2,
   "metadata": {},
   "outputs": [],
   "source": [
    "path1 = r'E:\\netData\\APS\\aps-dataset-citations-2010.zip'\n",
    "f1 = pd.read_csv(path1)"
   ]
  },
  {
   "cell_type": "code",
   "execution_count": 6,
   "metadata": {},
   "outputs": [],
   "source": [
    "path2 = r'E:\\netData\\APS\\3 properties\\nodepro2010.zip'\n",
    "f2 = pd.read_csv(path2)"
   ]
  },
  {
   "cell_type": "code",
   "execution_count": 3,
   "metadata": {},
   "outputs": [],
   "source": [
    "f1 = f1[['citing_doi', 'cited_doi']]"
   ]
  },
  {
   "cell_type": "code",
   "execution_count": 7,
   "metadata": {},
   "outputs": [],
   "source": [
    "f1['citing_id'] = f1['citing_doi'].map(dict(zip(f2['id'],f2.index)))\n",
    "f1['cited_id'] =  f1['cited_doi'].map(dict(zip(f2['id'],f2.index)))\n",
    "f11 = f1[['cited_id','citing_id']].copy()\n",
    "f11 = f11[f11.columns[::-1]]"
   ]
  },
  {
   "cell_type": "code",
   "execution_count": 8,
   "metadata": {},
   "outputs": [],
   "source": [
    "g = ig.Graph.DataFrame(f11, directed=True)"
   ]
  },
  {
   "cell_type": "code",
   "execution_count": 9,
   "metadata": {},
   "outputs": [
    {
     "data": {
      "text/plain": [
       "463348"
      ]
     },
     "execution_count": 9,
     "metadata": {},
     "output_type": "execute_result"
    }
   ],
   "source": [
    "g.vcount()"
   ]
  },
  {
   "cell_type": "code",
   "execution_count": 10,
   "metadata": {},
   "outputs": [
    {
     "data": {
      "text/plain": [
       "4745622"
      ]
     },
     "execution_count": 10,
     "metadata": {},
     "output_type": "execute_result"
    }
   ],
   "source": [
    "g.ecount()"
   ]
  },
  {
   "cell_type": "code",
   "execution_count": 17,
   "metadata": {},
   "outputs": [
    {
     "data": {
      "text/plain": [
       "0.001745678056000779"
      ]
     },
     "execution_count": 17,
     "metadata": {},
     "output_type": "execute_result"
    }
   ],
   "source": [
    "g.reciprocity()"
   ]
  },
  {
   "cell_type": "markdown",
   "metadata": {},
   "source": [
    "# calculate D and CD"
   ]
  },
  {
   "cell_type": "code",
   "execution_count": 37,
   "metadata": {
    "scrolled": false
   },
   "outputs": [],
   "source": [
    "def calculate_CD(x):\n",
    "    if g.vs[x].indegree()== 0:\n",
    "        return 0,0\n",
    "    elif g.vs[x].outdegree()== 0:\n",
    "        return 1,1\n",
    "    else:\n",
    "        array = np.array([])\n",
    "        for successor in g.vs[x].successors():\n",
    "            array = np.append(array,successor.predecessors())\n",
    "        array = np.unique(array)\n",
    "        \n",
    "        nj = np.intersect1d(array,g.vs[x].predecessors())\n",
    "        ni = np.setdiff1d(g.vs[x].predecessors(),nj)\n",
    "        nk = np.setdiff1d(array,g.vs[x].predecessors())\n",
    "\n",
    "        CD = (len(ni)-len(nj))/(len(ni) + len(nj)+ len(nk))\n",
    "        \n",
    "        D = (len(ni))/(len(ni) + len(nj)+ len(nk))\n",
    "        return [D, CD]"
   ]
  },
  {
   "cell_type": "markdown",
   "metadata": {},
   "source": [
    "# 2stepD"
   ]
  },
  {
   "cell_type": "code",
   "execution_count": 38,
   "metadata": {},
   "outputs": [],
   "source": [
    "def calculate_2D(x):\n",
    "    if g.vs[x].indegree()== 0:\n",
    "        return 0\n",
    "    elif g.vs[x].outdegree()== 0:\n",
    "        return 1\n",
    "    else:\n",
    "        array = np.array([])\n",
    "        for successor in g.vs[x].successors():\n",
    "            array = np.append(array,successor.predecessors())\n",
    "        array = np.unique(array)\n",
    "        \n",
    "        twogarray = np.array([])\n",
    "        for prede in g.vs[x].predecessors():\n",
    "            array = np.append(array,prede.predecessors())\n",
    "        \n",
    "        twogarray = np.union1d(g.vs[x].predecessors() , twogarray)\n",
    "        \n",
    "        nj = np.intersect1d(array,twogarray)\n",
    "        ni = np.setdiff1d(twogarray,nj)\n",
    "        nk = np.setdiff1d(array,twogarray)\n",
    "\n",
    "        D2 = len(ni)/(len(ni) + len(nj)+ len(nk))\n",
    "        return D2"
   ]
  },
  {
   "cell_type": "markdown",
   "metadata": {},
   "source": [
    "# save"
   ]
  },
  {
   "cell_type": "code",
   "execution_count": 39,
   "metadata": {},
   "outputs": [],
   "source": [
    "M = g.vcount()"
   ]
  },
  {
   "cell_type": "code",
   "execution_count": 40,
   "metadata": {},
   "outputs": [],
   "source": [
    "Dlst = []\n",
    "D2lst = []\n",
    "CDlst = []"
   ]
  },
  {
   "cell_type": "code",
   "execution_count": 41,
   "metadata": {},
   "outputs": [],
   "source": [
    "for i in range(M):\n",
    "    DCD = calculate_CD(i)\n",
    "    Dlst.append(DCD[0])\n",
    "    CDlst.append(DCD[1])\n",
    "    D2lst.append(calculate_2D(i))"
   ]
  },
  {
   "cell_type": "code",
   "execution_count": 42,
   "metadata": {},
   "outputs": [],
   "source": [
    "out_data = [Dlst,D2lst ,CDlst]\n",
    "name_data = ['D','2stepD','CD']\n",
    "Ddata = pd.DataFrame(dict(zip(name_data , out_data)))"
   ]
  },
  {
   "cell_type": "code",
   "execution_count": 43,
   "metadata": {},
   "outputs": [
    {
     "data": {
      "text/html": [
       "<div>\n",
       "<style scoped>\n",
       "    .dataframe tbody tr th:only-of-type {\n",
       "        vertical-align: middle;\n",
       "    }\n",
       "\n",
       "    .dataframe tbody tr th {\n",
       "        vertical-align: top;\n",
       "    }\n",
       "\n",
       "    .dataframe thead th {\n",
       "        text-align: right;\n",
       "    }\n",
       "</style>\n",
       "<table border=\"1\" class=\"dataframe\">\n",
       "  <thead>\n",
       "    <tr style=\"text-align: right;\">\n",
       "      <th></th>\n",
       "      <th>D</th>\n",
       "      <th>2stepD</th>\n",
       "      <th>CD</th>\n",
       "    </tr>\n",
       "  </thead>\n",
       "  <tbody>\n",
       "    <tr>\n",
       "      <th>count</th>\n",
       "      <td>463348.000000</td>\n",
       "      <td>463348.000000</td>\n",
       "      <td>463348.000000</td>\n",
       "    </tr>\n",
       "    <tr>\n",
       "      <th>mean</th>\n",
       "      <td>0.048016</td>\n",
       "      <td>0.032958</td>\n",
       "      <td>0.023165</td>\n",
       "    </tr>\n",
       "    <tr>\n",
       "      <th>std</th>\n",
       "      <td>0.172696</td>\n",
       "      <td>0.162038</td>\n",
       "      <td>0.178672</td>\n",
       "    </tr>\n",
       "    <tr>\n",
       "      <th>min</th>\n",
       "      <td>0.000000</td>\n",
       "      <td>0.000000</td>\n",
       "      <td>-1.000000</td>\n",
       "    </tr>\n",
       "    <tr>\n",
       "      <th>25%</th>\n",
       "      <td>0.000000</td>\n",
       "      <td>0.000000</td>\n",
       "      <td>-0.013228</td>\n",
       "    </tr>\n",
       "    <tr>\n",
       "      <th>50%</th>\n",
       "      <td>0.001054</td>\n",
       "      <td>0.000000</td>\n",
       "      <td>-0.002196</td>\n",
       "    </tr>\n",
       "    <tr>\n",
       "      <th>75%</th>\n",
       "      <td>0.012784</td>\n",
       "      <td>0.004800</td>\n",
       "      <td>0.000000</td>\n",
       "    </tr>\n",
       "    <tr>\n",
       "      <th>max</th>\n",
       "      <td>1.000000</td>\n",
       "      <td>1.000000</td>\n",
       "      <td>1.000000</td>\n",
       "    </tr>\n",
       "  </tbody>\n",
       "</table>\n",
       "</div>"
      ],
      "text/plain": [
       "                   D         2stepD             CD\n",
       "count  463348.000000  463348.000000  463348.000000\n",
       "mean        0.048016       0.032958       0.023165\n",
       "std         0.172696       0.162038       0.178672\n",
       "min         0.000000       0.000000      -1.000000\n",
       "25%         0.000000       0.000000      -0.013228\n",
       "50%         0.001054       0.000000      -0.002196\n",
       "75%         0.012784       0.004800       0.000000\n",
       "max         1.000000       1.000000       1.000000"
      ]
     },
     "execution_count": 43,
     "metadata": {},
     "output_type": "execute_result"
    }
   ],
   "source": [
    "Ddata.describe()"
   ]
  },
  {
   "cell_type": "code",
   "execution_count": 45,
   "metadata": {},
   "outputs": [],
   "source": [
    "f2['CD'] = CDlst\n",
    "f2['2stepD'] = D2lst\n",
    "f2['D'] = Dlst"
   ]
  },
  {
   "cell_type": "code",
   "execution_count": 49,
   "metadata": {},
   "outputs": [],
   "source": [
    "f2['degree'] = g.degree()"
   ]
  },
  {
   "cell_type": "code",
   "execution_count": 50,
   "metadata": {},
   "outputs": [],
   "source": [
    "f2.to_csv(r'E:\\netData\\APS\\3 properties\\nodepro2010.zip',index=False)"
   ]
  },
  {
   "cell_type": "code",
   "execution_count": null,
   "metadata": {},
   "outputs": [],
   "source": []
  }
 ],
 "metadata": {
  "kernelspec": {
   "display_name": "Python 3 (ipykernel)",
   "language": "python",
   "name": "python3"
  },
  "language_info": {
   "codemirror_mode": {
    "name": "ipython",
    "version": 3
   },
   "file_extension": ".py",
   "mimetype": "text/x-python",
   "name": "python",
   "nbconvert_exporter": "python",
   "pygments_lexer": "ipython3",
   "version": "3.9.12"
  }
 },
 "nbformat": 4,
 "nbformat_minor": 2
}
