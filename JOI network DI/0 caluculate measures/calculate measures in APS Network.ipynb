{
 "cells": [
  {
   "cell_type": "code",
   "execution_count": 1,
   "metadata": {},
   "outputs": [],
   "source": [
    "import pandas as pd\n",
    "import numpy as np\n",
    "import igraph as ig"
   ]
  },
  {
   "cell_type": "markdown",
   "metadata": {},
   "source": [
    "# data import"
   ]
  },
  {
   "cell_type": "code",
   "execution_count": 2,
   "metadata": {},
   "outputs": [],
   "source": [
    "path1 = r'E:\\netData\\APS\\0 citation and paper data\\aps-dataset-citations-2010.zip'\n",
    "f1 = pd.read_csv(path1)"
   ]
  },
  {
   "cell_type": "code",
   "execution_count": 3,
   "metadata": {},
   "outputs": [],
   "source": [
    "path2 = r'E:\\netData\\APS\\1 Paper\\nodepro2010.zip'\n",
    "f2 = pd.read_csv(path2)"
   ]
  },
  {
   "cell_type": "code",
   "execution_count": 4,
   "metadata": {},
   "outputs": [],
   "source": [
    "f1 = f1[['citing_doi', 'cited_doi']]"
   ]
  },
  {
   "cell_type": "code",
   "execution_count": 5,
   "metadata": {},
   "outputs": [],
   "source": [
    "f1['citing_id'] = f1['citing_doi'].map(dict(zip(f2['id'],f2.index)))\n",
    "f1['cited_id'] =  f1['cited_doi'].map(dict(zip(f2['id'],f2.index)))\n",
    "f11 = f1[['cited_id','citing_id']].copy()\n",
    "f11 = f11[f11.columns[::-1]]"
   ]
  },
  {
   "cell_type": "code",
   "execution_count": 6,
   "metadata": {},
   "outputs": [],
   "source": [
    "g = ig.Graph.DataFrame(f11, directed=True)"
   ]
  },
  {
   "cell_type": "code",
   "execution_count": 7,
   "metadata": {},
   "outputs": [
    {
     "data": {
      "text/plain": [
       "463348"
      ]
     },
     "execution_count": 7,
     "metadata": {},
     "output_type": "execute_result"
    }
   ],
   "source": [
    "g.vcount()"
   ]
  },
  {
   "cell_type": "code",
   "execution_count": 8,
   "metadata": {},
   "outputs": [
    {
     "data": {
      "text/plain": [
       "4745622"
      ]
     },
     "execution_count": 8,
     "metadata": {},
     "output_type": "execute_result"
    }
   ],
   "source": [
    "g.ecount()"
   ]
  },
  {
   "cell_type": "code",
   "execution_count": 9,
   "metadata": {},
   "outputs": [
    {
     "data": {
      "text/plain": [
       "0.001745678056000779"
      ]
     },
     "execution_count": 9,
     "metadata": {},
     "output_type": "execute_result"
    }
   ],
   "source": [
    "g.reciprocity()"
   ]
  },
  {
   "cell_type": "markdown",
   "metadata": {},
   "source": [
    "# calculate D and CD"
   ]
  },
  {
   "cell_type": "code",
   "execution_count": 10,
   "metadata": {
    "scrolled": false
   },
   "outputs": [],
   "source": [
    "def calculate_CD(x):\n",
    "    if g.vs[x].indegree()== 0:\n",
    "        return 0,0\n",
    "    elif g.vs[x].outdegree()== 0:\n",
    "        return 1,1\n",
    "    else:\n",
    "        array = np.array([])\n",
    "        for successor in g.vs[x].successors():\n",
    "            array = np.append(array,successor.predecessors())\n",
    "        array = np.unique(array)\n",
    "        \n",
    "        nj = np.intersect1d(array,g.vs[x].predecessors())\n",
    "        ni = np.setdiff1d(g.vs[x].predecessors(),nj)\n",
    "        nk = np.setdiff1d(array,g.vs[x].predecessors())\n",
    "\n",
    "        CD = (len(ni)-len(nj))/(len(ni) + len(nj)+ len(nk))\n",
    "        \n",
    "        D = (len(ni))/(len(ni) + len(nj)+ len(nk))\n",
    "        return [D, CD]"
   ]
  },
  {
   "cell_type": "markdown",
   "metadata": {},
   "source": [
    "# 2stepD"
   ]
  },
  {
   "cell_type": "code",
   "execution_count": 12,
   "metadata": {},
   "outputs": [],
   "source": [
    "def calculate_2D(x):\n",
    "    if g.vs[x].outdegree() == 0:\n",
    "        return 1, 1\n",
    "\n",
    "    successors_1 = g.vs[x].successors()\n",
    "    successors_2 = []\n",
    "\n",
    "    # Collect successors of successors (second generation)\n",
    "    for successor_1 in successors_1:\n",
    "        successors_2.extend(successor_1.successors())\n",
    "\n",
    "    if len(successors_2) == 0:\n",
    "        return 1, 1\n",
    "\n",
    "    array = np.array([])\n",
    "\n",
    "    # Collect predecessors of successors (second generation)\n",
    "    for successor_2 in successors_2:\n",
    "        array = np.append(array, successor_2.predecessors())\n",
    "\n",
    "    array = np.unique(array)\n",
    "\n",
    "    nj = np.intersect1d(array, g.vs[x].predecessors())\n",
    "    ni = np.setdiff1d(g.vs[x].predecessors(), nj)\n",
    "    nk = np.setdiff1d(array, g.vs[x].predecessors())\n",
    "\n",
    "    D2 = len(ni)/(len(ni) + len(nj)+ len(nk))\n",
    "    return D2"
   ]
  },
  {
   "cell_type": "markdown",
   "metadata": {},
   "source": [
    "# save"
   ]
  },
  {
   "cell_type": "code",
   "execution_count": 39,
   "metadata": {},
   "outputs": [],
   "source": [
    "M = g.vcount()"
   ]
  },
  {
   "cell_type": "code",
   "execution_count": 40,
   "metadata": {},
   "outputs": [],
   "source": [
    "Dlst = []\n",
    "D2lst = []\n",
    "CDlst = []"
   ]
  },
  {
   "cell_type": "code",
   "execution_count": 41,
   "metadata": {},
   "outputs": [],
   "source": [
    "for i in range(M):\n",
    "    DCD = calculate_CD(i)\n",
    "    Dlst.append(DCD[0])\n",
    "    CDlst.append(DCD[1])\n",
    "    D2lst.append(calculate_2D(i))"
   ]
  },
  {
   "cell_type": "code",
   "execution_count": 42,
   "metadata": {},
   "outputs": [],
   "source": [
    "out_data = [Dlst,D2lst ,CDlst]\n",
    "name_data = ['D','2stepD','CD']\n",
    "Ddata = pd.DataFrame(dict(zip(name_data , out_data)))"
   ]
  },
  {
   "cell_type": "code",
   "execution_count": 43,
   "metadata": {},
   "outputs": [
    {
     "data": {
      "text/html": [
       "<div>\n",
       "<style scoped>\n",
       "    .dataframe tbody tr th:only-of-type {\n",
       "        vertical-align: middle;\n",
       "    }\n",
       "\n",
       "    .dataframe tbody tr th {\n",
       "        vertical-align: top;\n",
       "    }\n",
       "\n",
       "    .dataframe thead th {\n",
       "        text-align: right;\n",
       "    }\n",
       "</style>\n",
       "<table border=\"1\" class=\"dataframe\">\n",
       "  <thead>\n",
       "    <tr style=\"text-align: right;\">\n",
       "      <th></th>\n",
       "      <th>D</th>\n",
       "      <th>2stepD</th>\n",
       "      <th>CD</th>\n",
       "    </tr>\n",
       "  </thead>\n",
       "  <tbody>\n",
       "    <tr>\n",
       "      <th>count</th>\n",
       "      <td>463348.000000</td>\n",
       "      <td>463348.000000</td>\n",
       "      <td>463348.000000</td>\n",
       "    </tr>\n",
       "    <tr>\n",
       "      <th>mean</th>\n",
       "      <td>0.048016</td>\n",
       "      <td>0.032958</td>\n",
       "      <td>0.023165</td>\n",
       "    </tr>\n",
       "    <tr>\n",
       "      <th>std</th>\n",
       "      <td>0.172696</td>\n",
       "      <td>0.162038</td>\n",
       "      <td>0.178672</td>\n",
       "    </tr>\n",
       "    <tr>\n",
       "      <th>min</th>\n",
       "      <td>0.000000</td>\n",
       "      <td>0.000000</td>\n",
       "      <td>-1.000000</td>\n",
       "    </tr>\n",
       "    <tr>\n",
       "      <th>25%</th>\n",
       "      <td>0.000000</td>\n",
       "      <td>0.000000</td>\n",
       "      <td>-0.013228</td>\n",
       "    </tr>\n",
       "    <tr>\n",
       "      <th>50%</th>\n",
       "      <td>0.001054</td>\n",
       "      <td>0.000000</td>\n",
       "      <td>-0.002196</td>\n",
       "    </tr>\n",
       "    <tr>\n",
       "      <th>75%</th>\n",
       "      <td>0.012784</td>\n",
       "      <td>0.004800</td>\n",
       "      <td>0.000000</td>\n",
       "    </tr>\n",
       "    <tr>\n",
       "      <th>max</th>\n",
       "      <td>1.000000</td>\n",
       "      <td>1.000000</td>\n",
       "      <td>1.000000</td>\n",
       "    </tr>\n",
       "  </tbody>\n",
       "</table>\n",
       "</div>"
      ],
      "text/plain": [
       "                   D         2stepD             CD\n",
       "count  463348.000000  463348.000000  463348.000000\n",
       "mean        0.048016       0.032958       0.023165\n",
       "std         0.172696       0.162038       0.178672\n",
       "min         0.000000       0.000000      -1.000000\n",
       "25%         0.000000       0.000000      -0.013228\n",
       "50%         0.001054       0.000000      -0.002196\n",
       "75%         0.012784       0.004800       0.000000\n",
       "max         1.000000       1.000000       1.000000"
      ]
     },
     "execution_count": 43,
     "metadata": {},
     "output_type": "execute_result"
    }
   ],
   "source": [
    "Ddata.describe()"
   ]
  },
  {
   "cell_type": "code",
   "execution_count": 3,
   "metadata": {},
   "outputs": [
    {
     "data": {
      "text/html": [
       "<div>\n",
       "<style scoped>\n",
       "    .dataframe tbody tr th:only-of-type {\n",
       "        vertical-align: middle;\n",
       "    }\n",
       "\n",
       "    .dataframe tbody tr th {\n",
       "        vertical-align: top;\n",
       "    }\n",
       "\n",
       "    .dataframe thead th {\n",
       "        text-align: right;\n",
       "    }\n",
       "</style>\n",
       "<table border=\"1\" class=\"dataframe\">\n",
       "  <thead>\n",
       "    <tr style=\"text-align: right;\">\n",
       "      <th></th>\n",
       "      <th>year</th>\n",
       "      <th>closeness</th>\n",
       "      <th>betweenness</th>\n",
       "      <th>authority</th>\n",
       "      <th>hub</th>\n",
       "      <th>eigenvector</th>\n",
       "      <th>indegree</th>\n",
       "      <th>h</th>\n",
       "      <th>coreness</th>\n",
       "      <th>pagerank</th>\n",
       "      <th>DI</th>\n",
       "      <th>CD</th>\n",
       "      <th>2stepD</th>\n",
       "      <th>D</th>\n",
       "      <th>degree</th>\n",
       "    </tr>\n",
       "  </thead>\n",
       "  <tbody>\n",
       "    <tr>\n",
       "      <th>count</th>\n",
       "      <td>463348.000000</td>\n",
       "      <td>450761.000000</td>\n",
       "      <td>4.633480e+05</td>\n",
       "      <td>4.633480e+05</td>\n",
       "      <td>4.633480e+05</td>\n",
       "      <td>463348.000000</td>\n",
       "      <td>463348.000000</td>\n",
       "      <td>463348.000000</td>\n",
       "      <td>463348.000000</td>\n",
       "      <td>4.633480e+05</td>\n",
       "      <td>374384.000000</td>\n",
       "      <td>463348.000000</td>\n",
       "      <td>463348.000000</td>\n",
       "      <td>463348.000000</td>\n",
       "      <td>463348.000000</td>\n",
       "    </tr>\n",
       "    <tr>\n",
       "      <th>mean</th>\n",
       "      <td>1989.869744</td>\n",
       "      <td>0.196733</td>\n",
       "      <td>7.508437e+05</td>\n",
       "      <td>7.363174e-05</td>\n",
       "      <td>7.119738e-03</td>\n",
       "      <td>0.000244</td>\n",
       "      <td>10.242025</td>\n",
       "      <td>3.328967</td>\n",
       "      <td>10.693731</td>\n",
       "      <td>2.158205e-06</td>\n",
       "      <td>-0.004513</td>\n",
       "      <td>0.023165</td>\n",
       "      <td>0.032958</td>\n",
       "      <td>0.048016</td>\n",
       "      <td>20.484051</td>\n",
       "    </tr>\n",
       "    <tr>\n",
       "      <th>std</th>\n",
       "      <td>17.557689</td>\n",
       "      <td>0.037913</td>\n",
       "      <td>1.328470e+07</td>\n",
       "      <td>2.548280e-03</td>\n",
       "      <td>4.523288e-02</td>\n",
       "      <td>0.007292</td>\n",
       "      <td>29.829037</td>\n",
       "      <td>4.142201</td>\n",
       "      <td>5.259505</td>\n",
       "      <td>1.142383e-05</td>\n",
       "      <td>0.083491</td>\n",
       "      <td>0.178672</td>\n",
       "      <td>0.162038</td>\n",
       "      <td>0.172696</td>\n",
       "      <td>32.529572</td>\n",
       "    </tr>\n",
       "    <tr>\n",
       "      <th>min</th>\n",
       "      <td>1893.000000</td>\n",
       "      <td>0.072611</td>\n",
       "      <td>0.000000e+00</td>\n",
       "      <td>0.000000e+00</td>\n",
       "      <td>0.000000e+00</td>\n",
       "      <td>0.000000</td>\n",
       "      <td>0.000000</td>\n",
       "      <td>0.000000</td>\n",
       "      <td>0.000000</td>\n",
       "      <td>4.297752e-07</td>\n",
       "      <td>-1.000000</td>\n",
       "      <td>-1.000000</td>\n",
       "      <td>0.000000</td>\n",
       "      <td>0.000000</td>\n",
       "      <td>0.000000</td>\n",
       "    </tr>\n",
       "    <tr>\n",
       "      <th>25%</th>\n",
       "      <td>1982.000000</td>\n",
       "      <td>0.184324</td>\n",
       "      <td>1.584435e+03</td>\n",
       "      <td>1.566782e-09</td>\n",
       "      <td>6.653263e-07</td>\n",
       "      <td>0.000000</td>\n",
       "      <td>1.000000</td>\n",
       "      <td>1.000000</td>\n",
       "      <td>7.000000</td>\n",
       "      <td>4.736622e-07</td>\n",
       "      <td>-0.017986</td>\n",
       "      <td>-0.013228</td>\n",
       "      <td>0.000000</td>\n",
       "      <td>0.000000</td>\n",
       "      <td>8.000000</td>\n",
       "    </tr>\n",
       "    <tr>\n",
       "      <th>50%</th>\n",
       "      <td>1995.000000</td>\n",
       "      <td>0.196080</td>\n",
       "      <td>5.989411e+04</td>\n",
       "      <td>1.333347e-07</td>\n",
       "      <td>1.833919e-05</td>\n",
       "      <td>0.000000</td>\n",
       "      <td>4.000000</td>\n",
       "      <td>2.000000</td>\n",
       "      <td>11.000000</td>\n",
       "      <td>6.484363e-07</td>\n",
       "      <td>-0.004914</td>\n",
       "      <td>-0.002196</td>\n",
       "      <td>0.000000</td>\n",
       "      <td>0.001054</td>\n",
       "      <td>15.000000</td>\n",
       "    </tr>\n",
       "    <tr>\n",
       "      <th>75%</th>\n",
       "      <td>2003.000000</td>\n",
       "      <td>0.207086</td>\n",
       "      <td>3.226369e+05</td>\n",
       "      <td>2.036991e-06</td>\n",
       "      <td>2.864381e-04</td>\n",
       "      <td>0.000000</td>\n",
       "      <td>11.000000</td>\n",
       "      <td>5.000000</td>\n",
       "      <td>15.000000</td>\n",
       "      <td>1.244750e-06</td>\n",
       "      <td>0.000000</td>\n",
       "      <td>0.000000</td>\n",
       "      <td>0.004800</td>\n",
       "      <td>0.012784</td>\n",
       "      <td>25.000000</td>\n",
       "    </tr>\n",
       "    <tr>\n",
       "      <th>max</th>\n",
       "      <td>2009.000000</td>\n",
       "      <td>1.000000</td>\n",
       "      <td>4.188175e+09</td>\n",
       "      <td>1.000000e+00</td>\n",
       "      <td>1.000000e+00</td>\n",
       "      <td>1.000000</td>\n",
       "      <td>5464.000000</td>\n",
       "      <td>106.000000</td>\n",
       "      <td>34.000000</td>\n",
       "      <td>2.556489e-03</td>\n",
       "      <td>0.995918</td>\n",
       "      <td>1.000000</td>\n",
       "      <td>1.000000</td>\n",
       "      <td>1.000000</td>\n",
       "      <td>5474.000000</td>\n",
       "    </tr>\n",
       "  </tbody>\n",
       "</table>\n",
       "</div>"
      ],
      "text/plain": [
       "                year      closeness   betweenness     authority           hub  \\\n",
       "count  463348.000000  450761.000000  4.633480e+05  4.633480e+05  4.633480e+05   \n",
       "mean     1989.869744       0.196733  7.508437e+05  7.363174e-05  7.119738e-03   \n",
       "std        17.557689       0.037913  1.328470e+07  2.548280e-03  4.523288e-02   \n",
       "min      1893.000000       0.072611  0.000000e+00  0.000000e+00  0.000000e+00   \n",
       "25%      1982.000000       0.184324  1.584435e+03  1.566782e-09  6.653263e-07   \n",
       "50%      1995.000000       0.196080  5.989411e+04  1.333347e-07  1.833919e-05   \n",
       "75%      2003.000000       0.207086  3.226369e+05  2.036991e-06  2.864381e-04   \n",
       "max      2009.000000       1.000000  4.188175e+09  1.000000e+00  1.000000e+00   \n",
       "\n",
       "         eigenvector       indegree              h       coreness  \\\n",
       "count  463348.000000  463348.000000  463348.000000  463348.000000   \n",
       "mean        0.000244      10.242025       3.328967      10.693731   \n",
       "std         0.007292      29.829037       4.142201       5.259505   \n",
       "min         0.000000       0.000000       0.000000       0.000000   \n",
       "25%         0.000000       1.000000       1.000000       7.000000   \n",
       "50%         0.000000       4.000000       2.000000      11.000000   \n",
       "75%         0.000000      11.000000       5.000000      15.000000   \n",
       "max         1.000000    5464.000000     106.000000      34.000000   \n",
       "\n",
       "           pagerank             DI             CD         2stepD  \\\n",
       "count  4.633480e+05  374384.000000  463348.000000  463348.000000   \n",
       "mean   2.158205e-06      -0.004513       0.023165       0.032958   \n",
       "std    1.142383e-05       0.083491       0.178672       0.162038   \n",
       "min    4.297752e-07      -1.000000      -1.000000       0.000000   \n",
       "25%    4.736622e-07      -0.017986      -0.013228       0.000000   \n",
       "50%    6.484363e-07      -0.004914      -0.002196       0.000000   \n",
       "75%    1.244750e-06       0.000000       0.000000       0.004800   \n",
       "max    2.556489e-03       0.995918       1.000000       1.000000   \n",
       "\n",
       "                   D         degree  \n",
       "count  463348.000000  463348.000000  \n",
       "mean        0.048016      20.484051  \n",
       "std         0.172696      32.529572  \n",
       "min         0.000000       0.000000  \n",
       "25%         0.000000       8.000000  \n",
       "50%         0.001054      15.000000  \n",
       "75%         0.012784      25.000000  \n",
       "max         1.000000    5474.000000  "
      ]
     },
     "execution_count": 3,
     "metadata": {},
     "output_type": "execute_result"
    }
   ],
   "source": [
    "f2.describe()"
   ]
  },
  {
   "cell_type": "code",
   "execution_count": 45,
   "metadata": {},
   "outputs": [],
   "source": [
    "f2['CD'] = CDlst\n",
    "f2['2stepD'] = D2lst\n",
    "f2['D'] = Dlst"
   ]
  },
  {
   "cell_type": "code",
   "execution_count": 49,
   "metadata": {},
   "outputs": [],
   "source": [
    "f2['degree'] = g.degree()"
   ]
  },
  {
   "cell_type": "code",
   "execution_count": 50,
   "metadata": {},
   "outputs": [],
   "source": [
    "f2.to_csv(r'E:\\netData\\APS\\3 properties\\nodepro2010.zip',index=False)"
   ]
  },
  {
   "cell_type": "code",
   "execution_count": null,
   "metadata": {},
   "outputs": [],
   "source": []
  }
 ],
 "metadata": {
  "kernelspec": {
   "display_name": "Python 3 (ipykernel)",
   "language": "python",
   "name": "python3"
  },
  "language_info": {
   "codemirror_mode": {
    "name": "ipython",
    "version": 3
   },
   "file_extension": ".py",
   "mimetype": "text/x-python",
   "name": "python",
   "nbconvert_exporter": "python",
   "pygments_lexer": "ipython3",
   "version": "3.9.12"
  }
 },
 "nbformat": 4,
 "nbformat_minor": 2
}
