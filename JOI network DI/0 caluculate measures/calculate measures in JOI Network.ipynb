{
 "cells": [
  {
   "cell_type": "code",
   "execution_count": 1,
   "metadata": {},
   "outputs": [],
   "source": [
    "import pandas as pd\n",
    "import numpy as np\n",
    "import os\n",
    "import math\n",
    "import re\n",
    "import random\n",
    "import matplotlib.pyplot as plt\n",
    "from matplotlib.cm import ScalarMappable\n",
    "from matplotlib.colors import LinearSegmentedColormap, Normalize\n",
    "import igraph as ig\n",
    "from collections import Counter\n",
    "import scipy.stats\n",
    "import seaborn as sns\n",
    "from matplotlib.font_manager import FontProperties  # 导入FontProperties\n",
    "import matplotlib.pyplot as plt\n",
    "from matplotlib.cm import ScalarMappable\n",
    "from matplotlib.colors import LinearSegmentedColormap, Normalize\n",
    "import warnings\n",
    "warnings.filterwarnings(\"ignore\")"
   ]
  },
  {
   "cell_type": "markdown",
   "metadata": {},
   "source": [
    "# data import"
   ]
  },
  {
   "cell_type": "code",
   "execution_count": 2,
   "metadata": {},
   "outputs": [],
   "source": [
    "class DI_network:\n",
    "\n",
    "    def open_file(self , path):\n",
    "        file_lst = os.listdir(path)\n",
    "        data = []\n",
    "        for file in file_lst:\n",
    "            with open(os.path.join(path , file), 'r', encoding='unicode_escape') as f:\n",
    "                data.extend(f.readlines()[2:])\n",
    "        return data\n",
    " \n",
    "    def get_data(self , txt):\n",
    "        p_lst = []                        \n",
    "        t_p_lst = []                      \n",
    "        for t in txt:\n",
    "            t_p_lst.append(t[:-1])\n",
    "            if t =='\\n':\n",
    "                p_lst.append(t_p_lst)\n",
    "                t_p_lst = []\n",
    "        return p_lst\n",
    "    \n",
    "    def get_reference(self , p):             \n",
    "        reference_lst = []\n",
    "        on0 = False\n",
    "        on1 = True\n",
    "        for pi in p:\n",
    "            if pi[:2] == 'CR':\n",
    "                on0 = True\n",
    "            if pi[:2] == 'NR':\n",
    "                on1 = False\n",
    "            if on0 == True and on1 == True:\n",
    "                reference_lst.append(pi[3:])\n",
    "        return reference_lst\n",
    "    \n",
    "    def get_ti(self , p):             \n",
    "        for pi in p:\n",
    "            if pi[:2] == 'TI':\n",
    "                p_ti = pi[2:].strip()\n",
    "                return p_ti\n",
    "    \n",
    "    def get_tc(self , p):             \n",
    "        for pi in p:\n",
    "            if pi[:2] == 'TC':\n",
    "                p_ti = int(pi[2:])\n",
    "                return p_ti\n",
    "        return np.nan\n",
    "    \n",
    "    def get_doi(self , p):             \n",
    "        for pi in p:\n",
    "            if pi[:2] == 'DI':\n",
    "                p_ti = pi[2:].strip()\n",
    "                return p_ti\n",
    "        return np.nan\n",
    "    \n",
    "    def get_au(self , p):             \n",
    "        for pi in p:\n",
    "            if pi[:2] == 'AU':\n",
    "                p_ti = pi[2:].strip()\n",
    "                return p_ti\n",
    "        return np.nan\n",
    "    \n",
    "    def get_year(self , p):             \n",
    "        for pi in p:\n",
    "            if pi[:2] == 'PY':\n",
    "                p_ti = pi[2:].strip()\n",
    "                return p_ti\n",
    "        return np.nan"
   ]
  },
  {
   "cell_type": "code",
   "execution_count": 3,
   "metadata": {},
   "outputs": [],
   "source": [
    "di = DI_network()\n",
    "path = '.../JOI'"
   ]
  },
  {
   "cell_type": "code",
   "execution_count": 4,
   "metadata": {},
   "outputs": [],
   "source": [
    "citing_data = di.open_file(path)\n",
    "p_data = di.get_data(citing_data)\n",
    "reference = di.get_reference(p_data[0])\n",
    "ti = di.get_ti(p_data[0])\n",
    "tc = di.get_tc(p_data[0])\n",
    "doi = di.get_doi(p_data[0])\n",
    "au = di.get_au(p_data[0])\n",
    "year = di.get_year(p_data[0])\n",
    "meta_inf = au + ' ' + year"
   ]
  },
  {
   "cell_type": "markdown",
   "metadata": {},
   "source": [
    "# construct a network"
   ]
  },
  {
   "cell_type": "code",
   "execution_count": 5,
   "metadata": {},
   "outputs": [],
   "source": [
    "meta_inf_lst = []           \n",
    "doi_lst = []                \n",
    "ref_doi_lst = []            \n",
    "ti_lst = []\n",
    "tc_lst = []\n",
    "\n",
    "for p in p_data:\n",
    "    reference = di.get_reference(p)\n",
    "    doi = di.get_doi(p)\n",
    "    au = di.get_au(p)\n",
    "    year = di.get_year(p)\n",
    "    ti = di.get_ti(p)\n",
    "    tc = di.get_tc(p)\n",
    "    meta_inf = au + ' ' + year\n",
    "    \n",
    "    meta_inf_lst.append(meta_inf)\n",
    "    doi_lst.append(doi)\n",
    "    ti_lst.append(ti)\n",
    "    tc_lst.append(tc)\n",
    "    \n",
    "    ref_doi_lst_small = []\n",
    "    for line in reference:\n",
    "        if re.search( 'DOI 10.+', line)!= None:\n",
    "            ref_doi_lst_small.append(re.search( 'DOI 10.+', line).group()[4:])\n",
    "    \n",
    "    ref_doi_lst.append(ref_doi_lst_small)"
   ]
  },
  {
   "cell_type": "code",
   "execution_count": 6,
   "metadata": {},
   "outputs": [],
   "source": [
    "M = len(p_data)\n",
    "adj_matrix = np.zeros((M,M))\n",
    "for i in range(M):\n",
    "    C_doi = doi_lst[i]\n",
    "    for j in range(M):\n",
    "        if C_doi in ref_doi_lst[j]:\n",
    "            adj_matrix[i, j] = 1"
   ]
  },
  {
   "cell_type": "code",
   "execution_count": 9,
   "metadata": {},
   "outputs": [],
   "source": [
    "df = pd.DataFrame(adj_matrix , columns = meta_inf_lst , index = meta_inf_lst)"
   ]
  },
  {
   "cell_type": "code",
   "execution_count": 7,
   "metadata": {},
   "outputs": [],
   "source": [
    "g = ig.Graph.Adjacency(adj_matrix,directed = False)"
   ]
  },
  {
   "cell_type": "code",
   "execution_count": 8,
   "metadata": {},
   "outputs": [
    {
     "data": {
      "text/plain": [
       "1257"
      ]
     },
     "execution_count": 8,
     "metadata": {},
     "output_type": "execute_result"
    }
   ],
   "source": [
    "g.vcount()"
   ]
  },
  {
   "cell_type": "code",
   "execution_count": 9,
   "metadata": {},
   "outputs": [
    {
     "data": {
      "text/plain": [
       "4515"
      ]
     },
     "execution_count": 9,
     "metadata": {},
     "output_type": "execute_result"
    }
   ],
   "source": [
    "g.ecount()"
   ]
  },
  {
   "cell_type": "markdown",
   "metadata": {},
   "source": [
    "# calculate DI"
   ]
  },
  {
   "cell_type": "code",
   "execution_count": 30,
   "metadata": {
    "scrolled": false
   },
   "outputs": [],
   "source": [
    "LDIO_lst = []\n",
    "\n",
    "for i in range(M):\n",
    "    out_degree = adj_matrix[i, :].sum()   #out-degree\n",
    "\n",
    "    posterior_nodes = []\n",
    "    prior_nodes = []\n",
    "    \n",
    "    nx = 0\n",
    "    ny = 0\n",
    "    nz = 0\n",
    "    for j in range(M):\n",
    "        if adj_matrix[i , j] == 1:\n",
    "            posterior_nodes.append(j)\n",
    "        if adj_matrix[j , i] == 1:\n",
    "            prior_nodes.append(j)\n",
    "    \n",
    "    for m in posterior_nodes:\n",
    "        local_y = 0\n",
    "        for k in prior_nodes:\n",
    "            if adj_matrix[k , m] == 1:\n",
    "                local_y = 1\n",
    "        ny += local_y\n",
    "\n",
    "    for k in prior_nodes:\n",
    "        local_x = 0\n",
    "        for m in posterior_nodes:\n",
    "            if adj_matrix[k , m] == 1 and m not in prior_nodes:\n",
    "                local_x += 1\n",
    "        nx += adj_matrix[k , :].sum() - 1 - local_x\n",
    "        \n",
    "    nz = out_degree - ny\n",
    "    if (nx + ny + nz) == 0:\n",
    "        LDIO = np.nan\n",
    "    else:\n",
    "        LDIO = (nz)/(nx + ny + nz)\n",
    "\n",
    "    LDIO_lst.append(LDIO)"
   ]
  },
  {
   "cell_type": "markdown",
   "metadata": {},
   "source": [
    "# 2stepDIO"
   ]
  },
  {
   "cell_type": "code",
   "execution_count": 31,
   "metadata": {},
   "outputs": [],
   "source": [
    "GDIO_lst = []      \n",
    "        \n",
    "for i in range(M):\n",
    "    posterior_nodes_lst = []\n",
    "    prior_nodes_lst = []\n",
    "    \n",
    "    for j in range(M):                                #初始迭代值\n",
    "        if adj_matrix[i , j] == 1:\n",
    "            posterior_nodes_lst.append(j)\n",
    "        if adj_matrix[j , i] == 1:\n",
    "            prior_nodes_lst.append(j)\n",
    "    \n",
    "    \n",
    "    new_posterior_nodes_lst = []\n",
    "    if len(posterior_nodes_lst)>0:\n",
    "        for j in posterior_nodes_lst:\n",
    "            for k in range(M):\n",
    "                if adj_matrix[j , k] == 1 and k not in prior_nodes_lst:\n",
    "                    new_posterior_nodes_lst.append(k)\n",
    "    posterior_nodes_lst.extend(new_posterior_nodes_lst)\n",
    "    posterior_nodes_lst = list(set(posterior_nodes_lst))#去除重复值\n",
    "    \n",
    "    \n",
    "    new_prior_nodes_lst = []\n",
    "    if len(posterior_nodes_lst)>0:\n",
    "        for j in prior_nodes_lst:\n",
    "            for k in range(M):\n",
    "                if adj_matrix[k , j] == 1 and k not in posterior_nodes_lst:\n",
    "                    new_prior_nodes_lst.append(k)\n",
    "    prior_nodes_lst.extend(new_prior_nodes_lst)\n",
    "    prior_nodes_lst = list(set(prior_nodes_lst))           #去除重复值\n",
    "    \n",
    "    nx = 0\n",
    "    ny = 0\n",
    "    nz = 0\n",
    "            \n",
    "    for m in posterior_nodes_lst:\n",
    "        local_y = 0\n",
    "        for k in prior_nodes_lst:\n",
    "            if adj_matrix[k , m] == 1:\n",
    "                local_y = 1\n",
    "        ny += local_y\n",
    "        \n",
    "    for k in prior_nodes_lst:\n",
    "        local_x = 0\n",
    "        for m in posterior_nodes_lst:\n",
    "            if adj_matrix[k , m] == 1 and m not in prior_nodes_lst:       #限制条件\n",
    "                local_x += 1\n",
    "        nx += (adj_matrix[k , :].sum() - 1 - local_x)\n",
    "    \n",
    "    nz = len(posterior_nodes_lst) - ny\n",
    "    \n",
    "    if (nx + ny + nz) == 0:\n",
    "        GDIO = np.nan\n",
    "    else:\n",
    "        GDIO = (nz)/(nx + ny + nz)\n",
    "\n",
    "    GDIO_lst.append(GDIO)"
   ]
  },
  {
   "cell_type": "markdown",
   "metadata": {},
   "source": [
    "# H"
   ]
  },
  {
   "cell_type": "code",
   "execution_count": 18,
   "metadata": {},
   "outputs": [],
   "source": [
    "def Hindex(indexList):\n",
    "    indexSet = sorted(list(set(indexList)), reverse = True)\n",
    "    h = 1\n",
    "    for index in indexSet:\n",
    "        if h <= index:\n",
    "            h += 1\n",
    "        else:\n",
    "            break\n",
    "    return h-1"
   ]
  },
  {
   "cell_type": "code",
   "execution_count": 29,
   "metadata": {},
   "outputs": [],
   "source": [
    "h_lst = []\n",
    "for i in range(M):\n",
    "    h_lst.append(Hindex([neighbors.degree() for neighbors in g.vs[5].neighbors()]))"
   ]
  },
  {
   "cell_type": "markdown",
   "metadata": {},
   "source": [
    "# save"
   ]
  },
  {
   "cell_type": "code",
   "execution_count": 34,
   "metadata": {},
   "outputs": [],
   "source": [
    "out_data = [meta_inf_lst, ti_lst, LDIO_lst,GDIO_lst,g.degree(),g.coreness(),h_lst,g.pagerank(),g.indegree(),g.outdegree()]\n",
    "name_data = ['meta_inf', 'ti', 'DIO','2stepDIO','degree','coreness','h-index','pagerank','in-degree','out-degree']\n",
    "DIOdata = pd.DataFrame(dict(zip(name_data , out_data)))"
   ]
  },
  {
   "cell_type": "code",
   "execution_count": 35,
   "metadata": {},
   "outputs": [],
   "source": [
    "DIOdata.to_excel('JOIdata.xlsx',index=False)"
   ]
  }
 ],
 "metadata": {
  "kernelspec": {
   "display_name": "Python 3 (ipykernel)",
   "language": "python",
   "name": "python3"
  },
  "language_info": {
   "codemirror_mode": {
    "name": "ipython",
    "version": 3
   },
   "file_extension": ".py",
   "mimetype": "text/x-python",
   "name": "python",
   "nbconvert_exporter": "python",
   "pygments_lexer": "ipython3",
   "version": "3.9.12"
  }
 },
 "nbformat": 4,
 "nbformat_minor": 2
}
