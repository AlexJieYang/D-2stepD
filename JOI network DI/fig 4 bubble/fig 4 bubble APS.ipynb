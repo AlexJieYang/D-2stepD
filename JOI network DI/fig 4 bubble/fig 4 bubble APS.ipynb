{
 "cells": [
  {
   "cell_type": "code",
   "execution_count": 1,
   "id": "3b9a2736",
   "metadata": {},
   "outputs": [],
   "source": [
    "import pandas as pd\n",
    "import numpy as np\n",
    "import random\n",
    "import seaborn as sns\n",
    "import matplotlib.pyplot as plt\n",
    "import scipy\n",
    "import seaborn\n",
    "import powerlaw\n",
    "from scipy import stats\n",
    "\n",
    "import matplotlib.pyplot as plt\n",
    "import numpy as np\n",
    "from sklearn import linear_model\n",
    "from scipy.stats import norm\n",
    "\n",
    "import matplotlib as mpl\n",
    "from scipy.stats import kstest"
   ]
  },
  {
   "cell_type": "code",
   "execution_count": 2,
   "id": "e720f7d6",
   "metadata": {},
   "outputs": [],
   "source": [
    "path2 = r'E:\\netData\\APS\\3 properties\\nodepro2010.zip'\n",
    "df = pd.read_csv(path2)"
   ]
  },
  {
   "cell_type": "code",
   "execution_count": 4,
   "id": "4e4c6c5b",
   "metadata": {},
   "outputs": [],
   "source": [
    "ff = df[['D', '2stepD','CD','degree','h','pagerank']]"
   ]
  },
  {
   "cell_type": "code",
   "execution_count": 5,
   "id": "da3d5c0e",
   "metadata": {},
   "outputs": [],
   "source": [
    "ff.index = range(len(ff))"
   ]
  },
  {
   "cell_type": "code",
   "execution_count": 6,
   "id": "bf2d2208",
   "metadata": {},
   "outputs": [
    {
     "data": {
      "text/html": [
       "<div>\n",
       "<style scoped>\n",
       "    .dataframe tbody tr th:only-of-type {\n",
       "        vertical-align: middle;\n",
       "    }\n",
       "\n",
       "    .dataframe tbody tr th {\n",
       "        vertical-align: top;\n",
       "    }\n",
       "\n",
       "    .dataframe thead th {\n",
       "        text-align: right;\n",
       "    }\n",
       "</style>\n",
       "<table border=\"1\" class=\"dataframe\">\n",
       "  <thead>\n",
       "    <tr style=\"text-align: right;\">\n",
       "      <th></th>\n",
       "      <th>D</th>\n",
       "      <th>2stepD</th>\n",
       "      <th>CD</th>\n",
       "      <th>degree</th>\n",
       "      <th>h</th>\n",
       "      <th>pagerank</th>\n",
       "    </tr>\n",
       "  </thead>\n",
       "  <tbody>\n",
       "    <tr>\n",
       "      <th>0</th>\n",
       "      <td>1.000000</td>\n",
       "      <td>1.000000</td>\n",
       "      <td>1.000000</td>\n",
       "      <td>1</td>\n",
       "      <td>1</td>\n",
       "      <td>1.105597e-06</td>\n",
       "    </tr>\n",
       "    <tr>\n",
       "      <th>1</th>\n",
       "      <td>1.000000</td>\n",
       "      <td>1.000000</td>\n",
       "      <td>1.000000</td>\n",
       "      <td>5</td>\n",
       "      <td>2</td>\n",
       "      <td>1.797312e-06</td>\n",
       "    </tr>\n",
       "    <tr>\n",
       "      <th>2</th>\n",
       "      <td>0.000000</td>\n",
       "      <td>0.000000</td>\n",
       "      <td>0.000000</td>\n",
       "      <td>0</td>\n",
       "      <td>0</td>\n",
       "      <td>4.297752e-07</td>\n",
       "    </tr>\n",
       "    <tr>\n",
       "      <th>3</th>\n",
       "      <td>0.000000</td>\n",
       "      <td>0.000000</td>\n",
       "      <td>0.000000</td>\n",
       "      <td>0</td>\n",
       "      <td>0</td>\n",
       "      <td>4.297752e-07</td>\n",
       "    </tr>\n",
       "    <tr>\n",
       "      <th>4</th>\n",
       "      <td>1.000000</td>\n",
       "      <td>1.000000</td>\n",
       "      <td>1.000000</td>\n",
       "      <td>4</td>\n",
       "      <td>1</td>\n",
       "      <td>2.372948e-06</td>\n",
       "    </tr>\n",
       "    <tr>\n",
       "      <th>...</th>\n",
       "      <td>...</td>\n",
       "      <td>...</td>\n",
       "      <td>...</td>\n",
       "      <td>...</td>\n",
       "      <td>...</td>\n",
       "      <td>...</td>\n",
       "    </tr>\n",
       "    <tr>\n",
       "      <th>463343</th>\n",
       "      <td>0.015748</td>\n",
       "      <td>0.006154</td>\n",
       "      <td>-0.047244</td>\n",
       "      <td>19</td>\n",
       "      <td>7</td>\n",
       "      <td>9.391861e-06</td>\n",
       "    </tr>\n",
       "    <tr>\n",
       "      <th>463344</th>\n",
       "      <td>0.000000</td>\n",
       "      <td>0.000000</td>\n",
       "      <td>0.000000</td>\n",
       "      <td>2</td>\n",
       "      <td>0</td>\n",
       "      <td>4.297752e-07</td>\n",
       "    </tr>\n",
       "    <tr>\n",
       "      <th>463345</th>\n",
       "      <td>0.170290</td>\n",
       "      <td>0.039454</td>\n",
       "      <td>0.159420</td>\n",
       "      <td>56</td>\n",
       "      <td>12</td>\n",
       "      <td>9.709074e-06</td>\n",
       "    </tr>\n",
       "    <tr>\n",
       "      <th>463346</th>\n",
       "      <td>0.015385</td>\n",
       "      <td>0.013699</td>\n",
       "      <td>-0.030769</td>\n",
       "      <td>24</td>\n",
       "      <td>2</td>\n",
       "      <td>2.722739e-06</td>\n",
       "    </tr>\n",
       "    <tr>\n",
       "      <th>463347</th>\n",
       "      <td>0.125494</td>\n",
       "      <td>0.010978</td>\n",
       "      <td>0.051383</td>\n",
       "      <td>597</td>\n",
       "      <td>37</td>\n",
       "      <td>4.555454e-04</td>\n",
       "    </tr>\n",
       "  </tbody>\n",
       "</table>\n",
       "<p>463348 rows × 6 columns</p>\n",
       "</div>"
      ],
      "text/plain": [
       "               D    2stepD        CD  degree   h      pagerank\n",
       "0       1.000000  1.000000  1.000000       1   1  1.105597e-06\n",
       "1       1.000000  1.000000  1.000000       5   2  1.797312e-06\n",
       "2       0.000000  0.000000  0.000000       0   0  4.297752e-07\n",
       "3       0.000000  0.000000  0.000000       0   0  4.297752e-07\n",
       "4       1.000000  1.000000  1.000000       4   1  2.372948e-06\n",
       "...          ...       ...       ...     ...  ..           ...\n",
       "463343  0.015748  0.006154 -0.047244      19   7  9.391861e-06\n",
       "463344  0.000000  0.000000  0.000000       2   0  4.297752e-07\n",
       "463345  0.170290  0.039454  0.159420      56  12  9.709074e-06\n",
       "463346  0.015385  0.013699 -0.030769      24   2  2.722739e-06\n",
       "463347  0.125494  0.010978  0.051383     597  37  4.555454e-04\n",
       "\n",
       "[463348 rows x 6 columns]"
      ]
     },
     "execution_count": 6,
     "metadata": {},
     "output_type": "execute_result"
    }
   ],
   "source": [
    "ff"
   ]
  },
  {
   "cell_type": "markdown",
   "id": "32252a8a",
   "metadata": {},
   "source": [
    "# top10%"
   ]
  },
  {
   "cell_type": "code",
   "execution_count": 22,
   "id": "7c4c8a3c",
   "metadata": {},
   "outputs": [],
   "source": [
    "t10 = int(np.ceil(len(ff)*0.1))"
   ]
  },
  {
   "cell_type": "code",
   "execution_count": 23,
   "id": "0b9c6270",
   "metadata": {},
   "outputs": [],
   "source": [
    "D = ff.sort_values('D',ascending = False).index[:t10]\n",
    "D2 = ff.sort_values('2stepD',ascending = False).index[:t10]\n",
    "CD = ff.sort_values('CD',ascending = False).index[:t10]\n",
    "degree = ff.sort_values('degree',ascending = False).index[:t10]\n",
    "hindex = ff.sort_values('h',ascending = False).index[:t10]\n",
    "pagerank = ff.sort_values('pagerank',ascending = False).index[:t10]"
   ]
  },
  {
   "cell_type": "code",
   "execution_count": 24,
   "id": "25fdd787",
   "metadata": {
    "scrolled": true
   },
   "outputs": [],
   "source": [
    "# sorted(ff['DIO'].values)[734:]\n",
    "def cal_overlap(D,G):\n",
    "    x = 0\n",
    "    for i in D:\n",
    "        if i in G:\n",
    "            x += 1\n",
    "    return x/len(D)"
   ]
  },
  {
   "cell_type": "code",
   "execution_count": 25,
   "id": "3c6ea686",
   "metadata": {},
   "outputs": [],
   "source": [
    "matrix = np.zeros([6,6])\n",
    "lst = [D,D2,CD,degree,hindex,pagerank]"
   ]
  },
  {
   "cell_type": "code",
   "execution_count": 26,
   "id": "c2a549d9",
   "metadata": {},
   "outputs": [],
   "source": [
    "for i in range(6):\n",
    "    for j in range(6):\n",
    "        matrix[i,j]=cal_overlap(lst[i],lst[j])"
   ]
  },
  {
   "cell_type": "code",
   "execution_count": 27,
   "id": "c8edd2b1",
   "metadata": {},
   "outputs": [],
   "source": [
    "f1 =pd.DataFrame(matrix , columns=ff.columns, index=ff.columns)"
   ]
  },
  {
   "cell_type": "code",
   "execution_count": 28,
   "id": "2c1c1a1e",
   "metadata": {},
   "outputs": [
    {
     "data": {
      "text/html": [
       "<div>\n",
       "<style scoped>\n",
       "    .dataframe tbody tr th:only-of-type {\n",
       "        vertical-align: middle;\n",
       "    }\n",
       "\n",
       "    .dataframe tbody tr th {\n",
       "        vertical-align: top;\n",
       "    }\n",
       "\n",
       "    .dataframe thead th {\n",
       "        text-align: right;\n",
       "    }\n",
       "</style>\n",
       "<table border=\"1\" class=\"dataframe\">\n",
       "  <thead>\n",
       "    <tr style=\"text-align: right;\">\n",
       "      <th></th>\n",
       "      <th>D</th>\n",
       "      <th>2stepD</th>\n",
       "      <th>CD</th>\n",
       "      <th>degree</th>\n",
       "      <th>h</th>\n",
       "      <th>pagerank</th>\n",
       "    </tr>\n",
       "  </thead>\n",
       "  <tbody>\n",
       "    <tr>\n",
       "      <th>D</th>\n",
       "      <td>1.000000</td>\n",
       "      <td>0.718507</td>\n",
       "      <td>0.801834</td>\n",
       "      <td>0.143369</td>\n",
       "      <td>0.209172</td>\n",
       "      <td>0.336139</td>\n",
       "    </tr>\n",
       "    <tr>\n",
       "      <th>2stepD</th>\n",
       "      <td>0.718507</td>\n",
       "      <td>1.000000</td>\n",
       "      <td>0.751959</td>\n",
       "      <td>0.040294</td>\n",
       "      <td>0.057689</td>\n",
       "      <td>0.161476</td>\n",
       "    </tr>\n",
       "    <tr>\n",
       "      <th>CD</th>\n",
       "      <td>0.801834</td>\n",
       "      <td>0.751959</td>\n",
       "      <td>1.000000</td>\n",
       "      <td>0.115356</td>\n",
       "      <td>0.172656</td>\n",
       "      <td>0.290558</td>\n",
       "    </tr>\n",
       "    <tr>\n",
       "      <th>degree</th>\n",
       "      <td>0.143369</td>\n",
       "      <td>0.040294</td>\n",
       "      <td>0.115356</td>\n",
       "      <td>1.000000</td>\n",
       "      <td>0.666321</td>\n",
       "      <td>0.463775</td>\n",
       "    </tr>\n",
       "    <tr>\n",
       "      <th>h</th>\n",
       "      <td>0.209172</td>\n",
       "      <td>0.057689</td>\n",
       "      <td>0.172656</td>\n",
       "      <td>0.666321</td>\n",
       "      <td>1.000000</td>\n",
       "      <td>0.618647</td>\n",
       "    </tr>\n",
       "    <tr>\n",
       "      <th>pagerank</th>\n",
       "      <td>0.336139</td>\n",
       "      <td>0.161476</td>\n",
       "      <td>0.290558</td>\n",
       "      <td>0.463775</td>\n",
       "      <td>0.618647</td>\n",
       "      <td>1.000000</td>\n",
       "    </tr>\n",
       "  </tbody>\n",
       "</table>\n",
       "</div>"
      ],
      "text/plain": [
       "                 D    2stepD        CD    degree         h  pagerank\n",
       "D         1.000000  0.718507  0.801834  0.143369  0.209172  0.336139\n",
       "2stepD    0.718507  1.000000  0.751959  0.040294  0.057689  0.161476\n",
       "CD        0.801834  0.751959  1.000000  0.115356  0.172656  0.290558\n",
       "degree    0.143369  0.040294  0.115356  1.000000  0.666321  0.463775\n",
       "h         0.209172  0.057689  0.172656  0.666321  1.000000  0.618647\n",
       "pagerank  0.336139  0.161476  0.290558  0.463775  0.618647  1.000000"
      ]
     },
     "execution_count": 28,
     "metadata": {},
     "output_type": "execute_result"
    }
   ],
   "source": [
    "f1"
   ]
  },
  {
   "cell_type": "code",
   "execution_count": 29,
   "id": "7502b534",
   "metadata": {
    "scrolled": true
   },
   "outputs": [],
   "source": [
    "f1.to_csv(r'E:\\netData\\complexNetdataset\\bubbleMatrixData\\APStopp10.csv')"
   ]
  },
  {
   "cell_type": "markdown",
   "id": "e89b66f4",
   "metadata": {},
   "source": [
    "# top30%"
   ]
  },
  {
   "cell_type": "code",
   "execution_count": 18,
   "id": "26ec39b8",
   "metadata": {},
   "outputs": [],
   "source": [
    "t30 = int(np.ceil(len(ff)*0.3))"
   ]
  },
  {
   "cell_type": "code",
   "execution_count": 19,
   "id": "d15e58bf",
   "metadata": {},
   "outputs": [],
   "source": [
    "D = ff.sort_values('D',ascending = False).index[:t30]\n",
    "D2 = ff.sort_values('2stepD',ascending = False).index[:t30]\n",
    "CD = ff.sort_values('CD',ascending = False).index[:t30]\n",
    "degree = ff.sort_values('degree',ascending = False).index[:t30]\n",
    "hindex = ff.sort_values('h',ascending = False).index[:t30]\n",
    "pagerank = ff.sort_values('pagerank',ascending = False).index[:t30]"
   ]
  },
  {
   "cell_type": "code",
   "execution_count": 20,
   "id": "649e5e59",
   "metadata": {},
   "outputs": [],
   "source": [
    "def cal_overlap(D,G):\n",
    "    x = 0\n",
    "    for i in D:\n",
    "        if i in G:\n",
    "            x += 1\n",
    "    return x/len(D)\n",
    "\n",
    "matrix = np.zeros([6,6])\n",
    "lst = [D,D2,CD,degree,hindex,pagerank]\n",
    "\n",
    "for i in range(6):\n",
    "    for j in range(6):\n",
    "        matrix[i,j]=cal_overlap(lst[i],lst[j])\n",
    "\n",
    "f1 =pd.DataFrame(matrix , columns=ff.columns, index=ff.columns)"
   ]
  },
  {
   "cell_type": "code",
   "execution_count": 21,
   "id": "d9c9c48d",
   "metadata": {},
   "outputs": [],
   "source": [
    "f1.to_csv(r'E:\\netData\\complexNetdataset\\bubbleMatrixData\\APStopp30.csv')"
   ]
  }
 ],
 "metadata": {
  "kernelspec": {
   "display_name": "Python 3 (ipykernel)",
   "language": "python",
   "name": "python3"
  },
  "language_info": {
   "codemirror_mode": {
    "name": "ipython",
    "version": 3
   },
   "file_extension": ".py",
   "mimetype": "text/x-python",
   "name": "python",
   "nbconvert_exporter": "python",
   "pygments_lexer": "ipython3",
   "version": "3.9.12"
  }
 },
 "nbformat": 4,
 "nbformat_minor": 5
}
